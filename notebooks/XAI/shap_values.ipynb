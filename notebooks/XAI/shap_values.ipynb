{
 "cells": [
  {
   "cell_type": "code",
   "execution_count": null,
   "id": "03a80556",
   "metadata": {},
   "outputs": [],
   "source": [
    "from XAI.xaiHeatmap import xaiHeatmap\n",
    "from XAI.xaiBeeswarm import xaiBeeswarm"
   ]
  },
  {
   "cell_type": "code",
   "execution_count": null,
   "id": "7f32791e",
   "metadata": {},
   "outputs": [],
   "source": [
    "xai = xaiHeatmap()\n",
    "xai.run()"
   ]
  },
  {
   "cell_type": "code",
   "execution_count": null,
   "id": "a501ea80",
   "metadata": {},
   "outputs": [],
   "source": [
    "xai = xaiBeeswarm()\n",
    "xai.run()"
   ]
  },
  {
   "cell_type": "code",
   "execution_count": null,
   "id": "d794a002",
   "metadata": {},
   "outputs": [],
   "source": []
  }
 ],
 "metadata": {
  "kernelspec": {
   "display_name": ".venv",
   "language": "python",
   "name": "python3"
  },
  "language_info": {
   "codemirror_mode": {
    "name": "ipython",
    "version": 3
   },
   "file_extension": ".py",
   "mimetype": "text/x-python",
   "name": "python",
   "nbconvert_exporter": "python",
   "pygments_lexer": "ipython3",
   "version": "3.13.2"
  }
 },
 "nbformat": 4,
 "nbformat_minor": 5
}
