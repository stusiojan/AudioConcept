{
 "cells": [
  {
   "cell_type": "markdown",
   "id": "90722800",
   "metadata": {},
   "source": [
    "# Implementation of VGG 16 architecture\n",
    "\n",
    "3x3 kernel with padding of 1 and stride of 1.\n",
    "\n",
    "Input image resolution is 224x224 and is RGB image.\n",
    "\n",
    "Image resolution stays the same.\n",
    "\n",
    "I've followed Aladdin Persson [tutorial](https://www.youtube.com/watch?v=ACmuBbuXn20)"
   ]
  },
  {
   "cell_type": "code",
   "execution_count": 2,
   "id": "eb94ec57",
   "metadata": {},
   "outputs": [],
   "source": [
    "import torch\n",
    "import torch.nn as nn  # All neural network modules, nn.Linear, nn.Conv2d, BatchNorm, Loss functions\n"
   ]
  },
  {
   "cell_type": "code",
   "execution_count": 10,
   "id": "e7771c33",
   "metadata": {},
   "outputs": [],
   "source": [
    "# Integer values - number of channels in the convolutional layers\n",
    "# M - Maxpooling layer\n",
    "VGG16_architecture = [ \n",
    "    64, 64, \"M\", \n",
    "    128, 128, \"M\",\n",
    "    256, 256, 256, \"M\",\n",
    "    512, 512, 512, \"M\",\n",
    "    512, 512, 512, \"M\",\n",
    "    # Then flatten\n",
    "    # Then 4096x4096x1000 linear layers\n",
    "]"
   ]
  },
  {
   "cell_type": "code",
   "execution_count": null,
   "id": "d8376781",
   "metadata": {},
   "outputs": [],
   "source": [
    "class VGG_net(nn.Module):\n",
    "    def __init__(self, in_channels=3, num_classes=1000):\n",
    "        super(VGG_net, self).__init__()\n",
    "        self.in_channels = in_channels\n",
    "        self.conv_layers = self.create_conv_layers(VGG16_architecture)\n",
    "\n",
    "        self.fcs = nn.Sequential(\n",
    "            nn.Linear(512 * 7 * 7, 4096),\n",
    "            nn.ReLU(),\n",
    "            nn.Dropout(p=0.5),\n",
    "            nn.Linear(4096, 4096),\n",
    "            nn.ReLU(),\n",
    "            nn.Dropout(p=0.5),\n",
    "            nn.Linear(4096, num_classes),\n",
    "        )\n",
    "\n",
    "    def forward(self, x):\n",
    "        x = self.conv_layers(x)\n",
    "        x = x.reshape(x.shape[0], -1)\n",
    "        x = self.fcs(x)\n",
    "        return x\n",
    "\n",
    "    def create_conv_layers(self, architecture):\n",
    "        layers = []\n",
    "        in_channels = self.in_channels\n",
    "\n",
    "        for x in architecture:\n",
    "            if type(x) == int:\n",
    "                out_channels = x\n",
    "\n",
    "                layers += [\n",
    "                    nn.Conv2d(\n",
    "                        in_channels=in_channels,\n",
    "                        out_channels=out_channels,\n",
    "                        kernel_size=(3, 3),\n",
    "                        stride=(1, 1),\n",
    "                        padding=(1, 1),\n",
    "                    ),\n",
    "                    nn.BatchNorm2d(x),  # Not included in the original paper\n",
    "                    nn.ReLU(),\n",
    "                ]\n",
    "                in_channels = x\n",
    "            elif x == \"M\":\n",
    "                layers += [nn.MaxPool2d(kernel_size=(2, 2), stride=(2, 2))]\n",
    "\n",
    "        return nn.Sequential(*layers)\n"
   ]
  },
  {
   "cell_type": "code",
   "execution_count": 12,
   "id": "5f48bed6",
   "metadata": {},
   "outputs": [
    {
     "name": "stdout",
     "output_type": "stream",
     "text": [
      "torch.Size([3, 1000])\n"
     ]
    }
   ],
   "source": [
    "\n",
    "device = \"mps\" if torch.backends.mps.is_available() else \"cpu\"\n",
    "model = VGG_net(in_channels=3, num_classes=1000).to(device)\n",
    "BATCH_SIZE = 3\n",
    "x = torch.randn(3, 3, 224, 224).to(device)\n",
    "assert model(x).shape == torch.Size([BATCH_SIZE, 1000])\n",
    "print(model(x).shape)"
   ]
  }
 ],
 "metadata": {
  "kernelspec": {
   "display_name": ".venv",
   "language": "python",
   "name": "python3"
  },
  "language_info": {
   "codemirror_mode": {
    "name": "ipython",
    "version": 3
   },
   "file_extension": ".py",
   "mimetype": "text/x-python",
   "name": "python",
   "nbconvert_exporter": "python",
   "pygments_lexer": "ipython3",
   "version": "3.10.16"
  }
 },
 "nbformat": 4,
 "nbformat_minor": 5
}
