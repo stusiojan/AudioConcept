{
 "cells": [
  {
   "cell_type": "markdown",
   "id": "fc27f85b",
   "metadata": {},
   "source": [
    "# CNN\n",
    "\n",
    "Basic CNN for music classification, train on GZTAN. Inspired by :\n",
    "- [mamodrzejewski GTZAN genre classification example](https://github.com/mamodrzejewski/wimu-gtzan-genre-example)\n",
    "- [tutorial by Minz Won, Janne Spijkervet, Keunwoo Choi](https://colab.research.google.com/github/iranroman/musicinformationretrieval.com/blob/gh-pages/genre_recognition.ipynb)"
   ]
  },
  {
   "cell_type": "markdown",
   "id": "9191285c",
   "metadata": {},
   "source": [
    "I am using a machine with apple sillicon, so the code will be modified to run well on ARM architecture.\n",
    "\n",
    "In this project we are using wandb for experiments monitoring, so this will be changed from tensorboard."
   ]
  }
 ],
 "metadata": {
  "language_info": {
   "name": "python"
  }
 },
 "nbformat": 4,
 "nbformat_minor": 5
}
