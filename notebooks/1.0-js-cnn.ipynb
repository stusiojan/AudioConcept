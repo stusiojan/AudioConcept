{
 "cells": [
  {
   "cell_type": "markdown",
   "id": "fc27f85b",
   "metadata": {},
   "source": [
    "# CNN\n",
    "\n",
    "Basic CNN for music classification, train on GZTAN. Inspired by :\n",
    "- [mamodrzejewski GTZAN genre classification example](https://github.com/mamodrzejewski/wimu-gtzan-genre-example)\n",
    "- [tutorial by Minz Won, Janne Spijkervet, Keunwoo Choi](https://colab.research.google.com/github/iranroman/musicinformationretrieval.com/blob/gh-pages/genre_recognition.ipynb)\n",
    "- [Bhavesh Mittal VGGish implementation](https://www.kaggle.com/code/bhaveshmittal/music-genre-classification-vggish-cnn)"
   ]
  }
 ],
 "metadata": {
  "language_info": {
   "name": "python"
  }
 },
 "nbformat": 4,
 "nbformat_minor": 5
}
