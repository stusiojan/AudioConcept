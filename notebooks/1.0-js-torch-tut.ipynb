{
 "cells": [
  {
   "cell_type": "code",
   "execution_count": 6,
   "id": "1121018e",
   "metadata": {},
   "outputs": [],
   "source": [
    "import os\n",
    "from torch import nn\n",
    "from torch.utils.data import DataLoader\n",
    "from torchvision import datasets, transforms"
   ]
  },
  {
   "cell_type": "code",
   "execution_count": 10,
   "id": "ad6a6047",
   "metadata": {},
   "outputs": [],
   "source": [
    "class SimpleCNN(nn.Module):\n",
    "    def __init__(self):\n",
    "        # Define a simple CNN architecture\n",
    "        super().__init__()\n",
    "        self.flatten = nn.Flatten() # convert 2D images to 1D\n",
    "        self.linear_relu_stack = nn.Sequential(\n",
    "            nn.Linear(28 * 28, 512), # input layer\n",
    "            nn.ReLU(), # activation function\n",
    "            nn.Linear(512, 512), # hidden layer\n",
    "            nn.ReLU(),\n",
    "            nn.Linear(512, 10) # output layer\n",
    "        )\n",
    "\n",
    "    def forward(self, x):\n",
    "        # Forward pass through the network - flow of data\n",
    "        x = self.flatten(x)\n",
    "        logits = self.linear_relu_stack(x)\n",
    "        return logits"
   ]
  },
  {
   "cell_type": "code",
   "execution_count": 11,
   "id": "8aab1f63",
   "metadata": {},
   "outputs": [
    {
     "name": "stdout",
     "output_type": "stream",
     "text": [
      "Predicted class: tensor([2], device='mps:0')\n"
     ]
    }
   ],
   "source": [
    "model = SimpleCNN().to('mps') # Move model to MPS device - Metal Performance Shaders\n",
    "\n",
    "X = torch.rand(1, 1, 28, 28).to('mps') # Example input tensor\n",
    "\n",
    "logits = model(X) # Forward pass\n",
    "pred_probab = nn.Softmax(dim=1)(logits) # Apply softmax to get probabilities\n",
    "y_pred = pred_probab.argmax(1) # Get predicted class\n",
    "print(f\"Predicted class: {y_pred}\")"
   ]
  }
 ],
 "metadata": {
  "kernelspec": {
   "display_name": ".venv",
   "language": "python",
   "name": "python3"
  },
  "language_info": {
   "codemirror_mode": {
    "name": "ipython",
    "version": 3
   },
   "file_extension": ".py",
   "mimetype": "text/x-python",
   "name": "python",
   "nbconvert_exporter": "python",
   "pygments_lexer": "ipython3",
   "version": "3.10.17"
  }
 },
 "nbformat": 4,
 "nbformat_minor": 5
}
